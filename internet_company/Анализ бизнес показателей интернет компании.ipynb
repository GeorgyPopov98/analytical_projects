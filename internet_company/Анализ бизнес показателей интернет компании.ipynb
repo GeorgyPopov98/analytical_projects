{
 "cells": [
  {
   "cell_type": "markdown",
   "id": "41b53823",
   "metadata": {},
   "source": [
    "### Анализ бизнес показателей интернет компании.\n",
    "\n",
    "**Цель исследования**:\n",
    "1. Выявить рекламный канал, принёсший больше всего дохода за всё время;\n",
    "2. Вычислить изменение среднего чека транзакции после введения коронавирусных ограничений, а также для пользователей, покупающих с промокодом и без;\n",
    "3. Проверить гипотезу: \"Можно ли с уверенностью в 95% сказать, что CR (коэффициент конверсии в транзакцию) в выходные дни отличается от CR в будние дни?\";\n",
    "4. Cпрогнозировать объем дохода, полученного с пользователей, приведенных на сайт контекстной рекламой на полгода вперед.\n",
    "\n",
    "**Ход исследования**\n",
    "\n",
    "Проведем предобработку данных. Проверим данные на ошибки и оценим их влияние на исследование. Затем, на этапе предобработки выявим возможность исправить самые критичные ошибки данных.\n",
    "\n",
    "Затем посчитаем доход от каждого рекламного источника и выявим наиболее доходный.\n",
    "\n",
    "Далее поделим общий доход на количество транзакций, чтобы получить средний чек транзакции. Покажем измение до и после введения коронавирусных ограничений, а также для пользователей, покупающих с промокодом и без.\n",
    "\n",
    "Затем проверим гипотезу. Для этого сформулируем нулевую и альтернативную гипотезы. Чтобы подтвердить или опровергнуть нулевую гипотезу проведем тест Манна-Уитни для проверки равенства среднего двух генеральных совокупностей по взятым из них выборкам.\n",
    "\n",
    "В конце напишем общий вывод.\n",
    " \n",
    "Таким образом, исследование пройдёт в несколько этапов:\n",
    " 1. Изучение общей информации.\n",
    " 2. Предобработка данных.\n",
    " 3. Поиск рекламного канала, принесшего наибольший доход за все время.\n",
    " 4. Вычисление изменения среднего чека транзакции после введения коронавирусных ограничений, а также для пользователей, покупающих с промокодом и без.\n",
    " 5. Проверка гипотезы.\n",
    " 6. Прогнозирование объема дохода, полученного с пользователей, приведенных на сайт контекстной рекламой на полгода вперед.\n",
    " 7. Общий вывод."
   ]
  },
  {
   "cell_type": "markdown",
   "id": "f3efc5f1",
   "metadata": {},
   "source": [
    "### Анализ бизнес показателей интернет компании.\n",
    "_____\n",
    "\n",
    "###### Данное исследование разделим на несколько частей.\n",
    "\n",
    "#### Часть 1. Изучение данных из файла и предобработка данных:\n",
    "* [1. Изучение файлов с данными, получение общей информации, загрузка библиотек, предобработка данных.](#1-bullet)\n",
    "#### Часть 2. Поиск рекламного канала, принесшего наибольший доход за все время:\n",
    "* [1. Поиск рекламного канала, принесшего наибольший доход за все время.](#2-bullet)\n",
    "#### Часть 4. Вычисление изменения среднего чека транзакции:\n",
    "* [1. Изменения среднего чека транзакции после введения коронавирусных ограничений.](#3-bullet)\n",
    "* [2. Изменения среднего чека транзакции для пользователей, покупающих с промокодом и без, после введения коронавирусных ограничений.](#4-bullet)\n",
    "#### Часть 5. Проверка гипотезы:\n",
    "* [1. Проверка гипотезы.](#5-bullet)\n",
    "#### Часть 6. Прогнозирование объема дохода:\n",
    "* [1. Прогнозирование объема дохода, полученного с пользователей, приведенных на сайт контекстной рекламой на полгода вперед.](#6-bullet)\n",
    "##### Итоги исследования"
   ]
  },
  {
   "cell_type": "markdown",
   "id": "0fa388a2",
   "metadata": {},
   "source": [
    "## Изучение данных из файла и предобработка данных."
   ]
  },
  {
   "cell_type": "markdown",
   "id": "0b730de5",
   "metadata": {},
   "source": [
    "<a id='1-bullet'></a>\n",
    "### Изучение файлов с данными, получение общей информации, загрузка библиотек, предобработка данных."
   ]
  },
  {
   "cell_type": "code",
   "execution_count": 1,
   "id": "e02ba1c1",
   "metadata": {},
   "outputs": [],
   "source": [
    "import pandas as pd #импорт библиотеки pandas\n",
    "import datetime  #импорт библиотеки datetime\n",
    "from scipy import stats as st\n",
    "import matplotlib.pyplot as plt\n",
    "from statsmodels.tsa.holtwinters import ExponentialSmoothing"
   ]
  },
  {
   "cell_type": "markdown",
   "id": "8444380a",
   "metadata": {},
   "source": [
    "Загрузим датасет для анализа данных."
   ]
  },
  {
   "cell_type": "code",
   "execution_count": 2,
   "id": "5c63f607",
   "metadata": {},
   "outputs": [],
   "source": [
    "def primary(data):\n",
    "    display(data.info())\n",
    "    display(data.head())\n",
    "    display('Проверка на пропуски:',data.isna().sum())\n",
    "    display('Проверка на дубликаты:',data.duplicated().sum()) \n",
    "    # фукция получения общей информации, первых пяти строк таблицы, проверки на пропуски и дубликаты"
   ]
  },
  {
   "cell_type": "code",
   "execution_count": 3,
   "id": "34a83015",
   "metadata": {},
   "outputs": [],
   "source": [
    "camp = pd.read_csv(\"D:\\\\Programs\\\\summer_camp_data.csv\", parse_dates=['date'])"
   ]
  },
  {
   "cell_type": "code",
   "execution_count": 4,
   "id": "c78f6721",
   "metadata": {},
   "outputs": [
    {
     "name": "stdout",
     "output_type": "stream",
     "text": [
      "<class 'pandas.core.frame.DataFrame'>\n",
      "RangeIndex: 52721 entries, 0 to 52720\n",
      "Data columns (total 14 columns):\n",
      " #   Column              Non-Null Count  Dtype         \n",
      "---  ------              --------------  -----         \n",
      " 0   date                52721 non-null  datetime64[ns]\n",
      " 1   source              52721 non-null  object        \n",
      " 2   medium              52721 non-null  object        \n",
      " 3   delivery_available  52721 non-null  object        \n",
      " 4   device_type         52721 non-null  object        \n",
      " 5   promo_activated     52721 non-null  object        \n",
      " 6   filter_used         52721 non-null  object        \n",
      " 7   pageviews           52721 non-null  int64         \n",
      " 8   visits              52721 non-null  int64         \n",
      " 9   productClick        52721 non-null  int64         \n",
      " 10  addToCart           52721 non-null  int64         \n",
      " 11  checkout            52721 non-null  int64         \n",
      " 12  transactions        52721 non-null  int64         \n",
      " 13  revenue             52721 non-null  float64       \n",
      "dtypes: datetime64[ns](1), float64(1), int64(6), object(6)\n",
      "memory usage: 5.6+ MB\n"
     ]
    },
    {
     "data": {
      "text/plain": [
       "None"
      ]
     },
     "metadata": {},
     "output_type": "display_data"
    },
    {
     "data": {
      "text/html": [
       "<div>\n",
       "<style scoped>\n",
       "    .dataframe tbody tr th:only-of-type {\n",
       "        vertical-align: middle;\n",
       "    }\n",
       "\n",
       "    .dataframe tbody tr th {\n",
       "        vertical-align: top;\n",
       "    }\n",
       "\n",
       "    .dataframe thead th {\n",
       "        text-align: right;\n",
       "    }\n",
       "</style>\n",
       "<table border=\"1\" class=\"dataframe\">\n",
       "  <thead>\n",
       "    <tr style=\"text-align: right;\">\n",
       "      <th></th>\n",
       "      <th>date</th>\n",
       "      <th>source</th>\n",
       "      <th>medium</th>\n",
       "      <th>delivery_available</th>\n",
       "      <th>device_type</th>\n",
       "      <th>promo_activated</th>\n",
       "      <th>filter_used</th>\n",
       "      <th>pageviews</th>\n",
       "      <th>visits</th>\n",
       "      <th>productClick</th>\n",
       "      <th>addToCart</th>\n",
       "      <th>checkout</th>\n",
       "      <th>transactions</th>\n",
       "      <th>revenue</th>\n",
       "    </tr>\n",
       "  </thead>\n",
       "  <tbody>\n",
       "    <tr>\n",
       "      <th>0</th>\n",
       "      <td>2020-05-11</td>\n",
       "      <td>google</td>\n",
       "      <td>organic</td>\n",
       "      <td>Не определено</td>\n",
       "      <td>Десктоп</td>\n",
       "      <td>no</td>\n",
       "      <td>no</td>\n",
       "      <td>3120</td>\n",
       "      <td>1233</td>\n",
       "      <td>5240</td>\n",
       "      <td>1048</td>\n",
       "      <td>525</td>\n",
       "      <td>90</td>\n",
       "      <td>86649.0</td>\n",
       "    </tr>\n",
       "    <tr>\n",
       "      <th>1</th>\n",
       "      <td>2020-05-11</td>\n",
       "      <td>yandex</td>\n",
       "      <td>cpc</td>\n",
       "      <td>Не определено</td>\n",
       "      <td>Мобайл</td>\n",
       "      <td>yes</td>\n",
       "      <td>no</td>\n",
       "      <td>3302</td>\n",
       "      <td>544</td>\n",
       "      <td>9930</td>\n",
       "      <td>1984</td>\n",
       "      <td>1416</td>\n",
       "      <td>217</td>\n",
       "      <td>244478.0</td>\n",
       "    </tr>\n",
       "    <tr>\n",
       "      <th>2</th>\n",
       "      <td>2020-05-11</td>\n",
       "      <td>google</td>\n",
       "      <td>cpc</td>\n",
       "      <td>Не определено</td>\n",
       "      <td>Мобайл</td>\n",
       "      <td>no</td>\n",
       "      <td>no</td>\n",
       "      <td>2970</td>\n",
       "      <td>1450</td>\n",
       "      <td>5460</td>\n",
       "      <td>1090</td>\n",
       "      <td>599</td>\n",
       "      <td>100</td>\n",
       "      <td>105150.0</td>\n",
       "    </tr>\n",
       "    <tr>\n",
       "      <th>3</th>\n",
       "      <td>2020-05-11</td>\n",
       "      <td>google</td>\n",
       "      <td>cpc</td>\n",
       "      <td>Не определено</td>\n",
       "      <td>Десктоп</td>\n",
       "      <td>no</td>\n",
       "      <td>no</td>\n",
       "      <td>1875</td>\n",
       "      <td>854</td>\n",
       "      <td>4250</td>\n",
       "      <td>848</td>\n",
       "      <td>407</td>\n",
       "      <td>71</td>\n",
       "      <td>79003.0</td>\n",
       "    </tr>\n",
       "    <tr>\n",
       "      <th>4</th>\n",
       "      <td>2020-05-11</td>\n",
       "      <td>yandex</td>\n",
       "      <td>organic</td>\n",
       "      <td>Не определено</td>\n",
       "      <td>Десктоп</td>\n",
       "      <td>no</td>\n",
       "      <td>no</td>\n",
       "      <td>2159</td>\n",
       "      <td>1000</td>\n",
       "      <td>4110</td>\n",
       "      <td>824</td>\n",
       "      <td>351</td>\n",
       "      <td>62</td>\n",
       "      <td>61861.0</td>\n",
       "    </tr>\n",
       "  </tbody>\n",
       "</table>\n",
       "</div>"
      ],
      "text/plain": [
       "        date  source   medium delivery_available device_type promo_activated  \\\n",
       "0 2020-05-11  google  organic      Не определено     Десктоп              no   \n",
       "1 2020-05-11  yandex      cpc      Не определено      Мобайл             yes   \n",
       "2 2020-05-11  google      cpc      Не определено      Мобайл              no   \n",
       "3 2020-05-11  google      cpc      Не определено     Десктоп              no   \n",
       "4 2020-05-11  yandex  organic      Не определено     Десктоп              no   \n",
       "\n",
       "  filter_used  pageviews  visits  productClick  addToCart  checkout  \\\n",
       "0          no       3120    1233          5240       1048       525   \n",
       "1          no       3302     544          9930       1984      1416   \n",
       "2          no       2970    1450          5460       1090       599   \n",
       "3          no       1875     854          4250        848       407   \n",
       "4          no       2159    1000          4110        824       351   \n",
       "\n",
       "   transactions   revenue  \n",
       "0            90   86649.0  \n",
       "1           217  244478.0  \n",
       "2           100  105150.0  \n",
       "3            71   79003.0  \n",
       "4            62   61861.0  "
      ]
     },
     "metadata": {},
     "output_type": "display_data"
    },
    {
     "data": {
      "text/plain": [
       "'Проверка на пропуски:'"
      ]
     },
     "metadata": {},
     "output_type": "display_data"
    },
    {
     "data": {
      "text/plain": [
       "date                  0\n",
       "source                0\n",
       "medium                0\n",
       "delivery_available    0\n",
       "device_type           0\n",
       "promo_activated       0\n",
       "filter_used           0\n",
       "pageviews             0\n",
       "visits                0\n",
       "productClick          0\n",
       "addToCart             0\n",
       "checkout              0\n",
       "transactions          0\n",
       "revenue               0\n",
       "dtype: int64"
      ]
     },
     "metadata": {},
     "output_type": "display_data"
    },
    {
     "data": {
      "text/plain": [
       "'Проверка на дубликаты:'"
      ]
     },
     "metadata": {},
     "output_type": "display_data"
    },
    {
     "data": {
      "text/plain": [
       "0"
      ]
     },
     "metadata": {},
     "output_type": "display_data"
    }
   ],
   "source": [
    "primary(camp) # применение функции"
   ]
  },
  {
   "cell_type": "markdown",
   "id": "3f9c0d00",
   "metadata": {},
   "source": [
    "Явных дубликатов и пропусков не обнаружено. Столбец `date` был преобразован в тип данных `datetime`. "
   ]
  },
  {
   "cell_type": "code",
   "execution_count": 5,
   "id": "aa15456f",
   "metadata": {},
   "outputs": [
    {
     "data": {
      "text/plain": [
       "array(['no', 'yes'], dtype=object)"
      ]
     },
     "execution_count": 5,
     "metadata": {},
     "output_type": "execute_result"
    }
   ],
   "source": [
    "camp['promo_activated'].unique()"
   ]
  },
  {
   "cell_type": "code",
   "execution_count": 6,
   "id": "60b6182e",
   "metadata": {},
   "outputs": [
    {
     "data": {
      "text/plain": [
       "array(['no', 'yes'], dtype=object)"
      ]
     },
     "execution_count": 6,
     "metadata": {},
     "output_type": "execute_result"
    }
   ],
   "source": [
    "camp['filter_used'].unique()"
   ]
  },
  {
   "cell_type": "markdown",
   "id": "7bfb099c",
   "metadata": {},
   "source": [
    "В столбцах `promo_activated` и `filter_used` можно изменить тип данных на `boolean`."
   ]
  },
  {
   "cell_type": "code",
   "execution_count": 7,
   "id": "e48a2c08",
   "metadata": {},
   "outputs": [],
   "source": [
    "for x, y in ('no', False), ('yes',True):\n",
    "    camp['promo_activated'] = camp['promo_activated'].replace(x, y) #замена значений "
   ]
  },
  {
   "cell_type": "code",
   "execution_count": 8,
   "id": "f423117b",
   "metadata": {},
   "outputs": [],
   "source": [
    "for x, y in ('no', False), ('yes',True):\n",
    "    camp['filter_used'] = camp['filter_used'].replace(x, y) #замена значений"
   ]
  },
  {
   "cell_type": "markdown",
   "id": "05071519",
   "metadata": {},
   "source": [
    "Теперь проверим столбцы `source`, `medium`, `delivery_available`, `device_type` на неявные дулбикаты."
   ]
  },
  {
   "cell_type": "code",
   "execution_count": 9,
   "id": "6aa810d8",
   "metadata": {},
   "outputs": [
    {
     "data": {
      "text/plain": [
       "array(['(direct)', 'DuckDuckGo', 'actionpay', 'admitad', 'advertise',\n",
       "       'baidu', 'bing', 'cityads', 'co-promo', 'eLama', 'exponea',\n",
       "       'facebook', 'google', 'instagram', 'mytarget', 'newsletter',\n",
       "       'opmcpa', 'other', 'promo', 'sailplay', 'vk', 'yandex',\n",
       "       'yandex_direct', 'youtube'], dtype=object)"
      ]
     },
     "execution_count": 9,
     "metadata": {},
     "output_type": "execute_result"
    }
   ],
   "source": [
    "camp['source'].sort_values().unique() # Проверка на неявные дубликаты"
   ]
  },
  {
   "cell_type": "code",
   "execution_count": 10,
   "id": "7651fff3",
   "metadata": {},
   "outputs": [
    {
     "data": {
      "text/plain": [
       "array(['(none)', 'cpa', 'cpc', 'email', 'organic', 'social'], dtype=object)"
      ]
     },
     "execution_count": 10,
     "metadata": {},
     "output_type": "execute_result"
    }
   ],
   "source": [
    "camp['medium'].sort_values().unique() # Проверка на неявные дубликаты"
   ]
  },
  {
   "cell_type": "code",
   "execution_count": 11,
   "id": "df510251",
   "metadata": {},
   "outputs": [
    {
     "data": {
      "text/plain": [
       "array(['Доставка есть', 'Доставки нет', 'Не определено'], dtype=object)"
      ]
     },
     "execution_count": 11,
     "metadata": {},
     "output_type": "execute_result"
    }
   ],
   "source": [
    "camp['delivery_available'].sort_values().unique() # Проверка на неявные дубликаты"
   ]
  },
  {
   "cell_type": "code",
   "execution_count": 12,
   "id": "b9a2ecbf",
   "metadata": {},
   "outputs": [
    {
     "data": {
      "text/plain": [
       "array(['Десктоп', 'Мобайл', 'Не определено'], dtype=object)"
      ]
     },
     "execution_count": 12,
     "metadata": {},
     "output_type": "execute_result"
    }
   ],
   "source": [
    "camp['device_type'].sort_values().unique() # Проверка на неявные дубликаты"
   ]
  },
  {
   "cell_type": "markdown",
   "id": "f79ba22e",
   "metadata": {},
   "source": [
    "Необходимо заменить значение `(none)` в столбце `medium` на пропуски."
   ]
  },
  {
   "cell_type": "code",
   "execution_count": 13,
   "id": "38e283e4",
   "metadata": {},
   "outputs": [],
   "source": [
    "camp['medium'] = camp['medium'].replace('(none)', None)"
   ]
  },
  {
   "cell_type": "markdown",
   "id": "570b1e10",
   "metadata": {},
   "source": [
    "#### Вывод"
   ]
  },
  {
   "cell_type": "markdown",
   "id": "37983021",
   "metadata": {},
   "source": [
    "Столбцы приведены к необходимым типам данных. Явных дубликатов и пропусков не обнаружено. Данные готовы к анализу."
   ]
  },
  {
   "cell_type": "markdown",
   "id": "3f08fedc",
   "metadata": {},
   "source": [
    "## Поиск рекламного канала, принесшего наибольший доход за все время."
   ]
  },
  {
   "cell_type": "markdown",
   "id": "cdadf5b2",
   "metadata": {},
   "source": [
    "<a id='2-bullet'></a>\n",
    "### Поиск рекламного канала, принесшего наибольший доход за все время."
   ]
  },
  {
   "cell_type": "markdown",
   "id": "2539643d",
   "metadata": {},
   "source": [
    "Для нахождения рекламного канала можно построить график, по которому можно определить наиболее доходный."
   ]
  },
  {
   "cell_type": "code",
   "execution_count": 14,
   "id": "adabe12d",
   "metadata": {},
   "outputs": [
    {
     "data": {
      "text/plain": [
       "<AxesSubplot:title={'center':'Доход рекламных каналов'}, xlabel='Канал', ylabel='Доход'>"
      ]
     },
     "execution_count": 14,
     "metadata": {},
     "output_type": "execute_result"
    },
    {
     "data": {
      "image/png": "[encoded data removed]",
      "text/plain": [
       "<Figure size 432x288 with 1 Axes>"
      ]
     },
     "metadata": {
      "needs_background": "light"
     },
     "output_type": "display_data"
    }
   ],
   "source": [
    "camp.groupby('source').sum().reset_index().plot(\n",
    "    x='source',\n",
    "    y='revenue',\n",
    "    kind='bar',\n",
    "    title='Доход рекламных каналов',\n",
    "    xlabel='Канал',\n",
    "    ylabel='Доход')"
   ]
  },
  {
   "cell_type": "markdown",
   "id": "b16a434b",
   "metadata": {},
   "source": [
    "Также рекламный канал можно найти используя код"
   ]
  },
  {
   "cell_type": "code",
   "execution_count": 15,
   "id": "a25b5f17",
   "metadata": {},
   "outputs": [
    {
     "data": {
      "text/plain": [
       "'yandex'"
      ]
     },
     "execution_count": 15,
     "metadata": {},
     "output_type": "execute_result"
    }
   ],
   "source": [
    "camp.groupby('source').sum().sort_values(by='revenue',ascending= False).reset_index().loc[0,'source']"
   ]
  },
  {
   "cell_type": "markdown",
   "id": "391967f4",
   "metadata": {},
   "source": [
    "#### Вывод"
   ]
  },
  {
   "cell_type": "markdown",
   "id": "1d12f8ab",
   "metadata": {},
   "source": [
    "`Yandex` - рекламный источник, принесший наибольший доход."
   ]
  },
  {
   "cell_type": "markdown",
   "id": "56f90a33",
   "metadata": {},
   "source": [
    "## Вычисление изменения среднего чека транзакции."
   ]
  },
  {
   "cell_type": "markdown",
   "id": "3e61e52f",
   "metadata": {},
   "source": [
    "<a id='3-bullet'></a>\n",
    "### Изменение среднего чека транзакции после введения коронавирусных ограничений."
   ]
  },
  {
   "cell_type": "markdown",
   "id": "20f3afd9",
   "metadata": {},
   "source": [
    "Дата введения коронавирусных ограничений - `2020-03-30`. Для нахождения среднего чека поделим общий доход на количество транзаций. Найдем средний чек транзакции для периода до введения ограничений и после. Затем сравним два этих показателя"
   ]
  },
  {
   "cell_type": "code",
   "execution_count": 16,
   "id": "56ae04eb",
   "metadata": {},
   "outputs": [
    {
     "data": {
      "text/plain": [
       "-7.41"
      ]
     },
     "execution_count": 16,
     "metadata": {},
     "output_type": "execute_result"
    }
   ],
   "source": [
    "round(\n",
    "    (\n",
    "        (\n",
    "            camp.query('date >= \"2020-03-30\"')[\"revenue\"].sum() #нахождение общего дохода до введения коронавирусных ограничений\n",
    "            / camp.query('date >= \"2020-03-30\"')[\"transactions\"].sum() #нахождение количества транзакций до введения коронавирусных ограничений\n",
    "        ) # определение среднего чека транзакции\n",
    "        / (\n",
    "            camp.query('date < \"2020-03-30\"')[\"revenue\"].sum()  #нахождения общего дохода после введения коронавирусных ограничений\n",
    "            / camp.query('date < \"2020-03-30\"')[\"transactions\"].sum() #нахождения количества транзакций после введения коронавирусных ограничений\n",
    "        ) # определение среднего чека транзакции\n",
    "        - 1\n",
    "    )\n",
    "    * 100, # определение изменения среднего чека транзакции\n",
    "    2,\n",
    ")"
   ]
  },
  {
   "cell_type": "markdown",
   "id": "6541d671",
   "metadata": {},
   "source": [
    "Средний чек транзакции упал на 7.41 процента"
   ]
  },
  {
   "cell_type": "markdown",
   "id": "d0fdd2b1",
   "metadata": {},
   "source": [
    "<a id='4-bullet'></a>\n",
    "### Изменение среднего чека транзакции для пользователей, покупающих с промокодом и без, после введения коронавирусных ограничений."
   ]
  },
  {
   "cell_type": "code",
   "execution_count": 17,
   "id": "d2cbb8ef",
   "metadata": {},
   "outputs": [
    {
     "data": {
      "text/plain": [
       "-5.19"
      ]
     },
     "execution_count": 17,
     "metadata": {},
     "output_type": "execute_result"
    }
   ],
   "source": [
    "round(\n",
    "    (\n",
    "        (\n",
    "            camp.query('date >= \"2020-03-30\" and promo_activated == True')[\"revenue\"].sum() #нахождение общего дохода до введения коронавирусных ограничений\n",
    "            / camp.query('date >= \"2020-03-30\" and promo_activated == True')[\"transactions\"].sum() #нахождение количества транзакций до введения коронавирусных ограничений\n",
    "        ) # определение среднего чека транзакции\n",
    "        / (\n",
    "            camp.query('date < \"2020-03-30\" and promo_activated == True')[\"revenue\"].sum()  #нахождения общего дохода после введения коронавирусных ограничений\n",
    "            / camp.query('date < \"2020-03-30\" and promo_activated == True')[\"transactions\"].sum() #нахождения количества транзакций после введения коронавирусных ограничений\n",
    "        ) # определение среднего чека транзакции\n",
    "        - 1\n",
    "    )\n",
    "    * 100, # определение изменения среднего чека транзакции\n",
    "    2,\n",
    ")"
   ]
  },
  {
   "cell_type": "markdown",
   "id": "d8ec092c",
   "metadata": {},
   "source": [
    "Средний чек тразакции пользователей, покупающих с промокодом, уменьшился на 5.19 процента."
   ]
  },
  {
   "cell_type": "code",
   "execution_count": 18,
   "id": "b4b51bb5",
   "metadata": {},
   "outputs": [
    {
     "data": {
      "text/plain": [
       "-9.74"
      ]
     },
     "execution_count": 18,
     "metadata": {},
     "output_type": "execute_result"
    }
   ],
   "source": [
    "round(\n",
    "    (\n",
    "        (\n",
    "            camp.query('date >= \"2020-03-30\" and promo_activated == False')[\"revenue\"].sum() #нахождение общего дохода до введения коронавирусных ограничений\n",
    "            / camp.query('date >= \"2020-03-30\" and promo_activated == False')[\"transactions\"].sum() #нахождение количества транзакций до введения коронавирусных ограничений\n",
    "        ) # определение среднего чека транзакции\n",
    "        / (\n",
    "            camp.query('date < \"2020-03-30\" and promo_activated == False')[\"revenue\"].sum()  #нахождения общего дохода после введения коронавирусных ограничений\n",
    "            / camp.query('date < \"2020-03-30\" and promo_activated == False')[\"transactions\"].sum() #нахождения количества транзакций после введения коронавирусных ограничений\n",
    "        ) # определение среднего чека транзакции\n",
    "        - 1\n",
    "    )\n",
    "    * 100, # определение изменения среднего чека транзакции\n",
    "    2,\n",
    ")"
   ]
  },
  {
   "cell_type": "markdown",
   "id": "ff3326a0",
   "metadata": {},
   "source": [
    "Средний чек тразакции пользователей, покупающих без промокода, уменьшился на 9.74 процента."
   ]
  },
  {
   "cell_type": "markdown",
   "id": "fb5fdc8a",
   "metadata": {},
   "source": [
    "#### Вывод"
   ]
  },
  {
   "cell_type": "markdown",
   "id": "e0b90291",
   "metadata": {},
   "source": [
    "Средний чек транзакции уменьшился после введения коронавирусных ограничений на 7.41 процента. Также он уменьшился, как для пользователей, использовавших промокод, так и для тех, кто его не использовал, на 5.19 и 9.74 процента соотвественно."
   ]
  },
  {
   "cell_type": "markdown",
   "id": "ab090d61",
   "metadata": {},
   "source": [
    "## Проверка гипотезы"
   ]
  },
  {
   "cell_type": "markdown",
   "id": "7a9024b8",
   "metadata": {},
   "source": [
    "<a id='5-bullet'></a>\n",
    "### Проверка гипотезы."
   ]
  },
  {
   "cell_type": "markdown",
   "id": "36b6cb97",
   "metadata": {},
   "source": [
    "Необходимо проверить гипотезу: \"Можно ли с уверенностью в 95% сказать, что CR (коэффициент конверсии в транзакцию) в выходные дни отличается от CR в будние дни?\""
   ]
  },
  {
   "cell_type": "markdown",
   "id": "6e1abc57",
   "metadata": {},
   "source": [
    "Нулевая гипотеза будет выглядеть следующим образом: средние двух генеральных совокупностей равны между собой. Алтернативная: средние двух генеральных совокупностей не равны между собой. Чтобы подтвердить или опровергнуть нулевую гипотезу проведем статистический тест для проверки равенства среднего двух генеральных совокупностей по взятым из них выборкам. В данном случае, уровень значимости равен 0,05, так как мы говорим о 95% уверенности."
   ]
  },
  {
   "cell_type": "markdown",
   "id": "756a274a",
   "metadata": {},
   "source": [
    "Для начала определим коэффициент конверсии в транзакцию."
   ]
  },
  {
   "cell_type": "code",
   "execution_count": 19,
   "id": "ce65a459",
   "metadata": {},
   "outputs": [],
   "source": [
    "camp_tcr = camp.copy()"
   ]
  },
  {
   "cell_type": "code",
   "execution_count": 20,
   "id": "c1853cee",
   "metadata": {},
   "outputs": [],
   "source": [
    "camp_tcr['TCR'] = camp_tcr['transactions']/camp_tcr['visits']"
   ]
  },
  {
   "cell_type": "markdown",
   "id": "578c9937",
   "metadata": {},
   "source": [
    "Далее определим дни недели для каждой даты"
   ]
  },
  {
   "cell_type": "code",
   "execution_count": 21,
   "id": "e537b881",
   "metadata": {},
   "outputs": [],
   "source": [
    "camp_tcr['weekday'] = camp_tcr['date'].apply(lambda x: datetime.datetime.strftime(x, '%A'))"
   ]
  },
  {
   "cell_type": "markdown",
   "id": "5966d8c5",
   "metadata": {},
   "source": [
    "Далее определим нормально ли распределены выборки. Для этого воспользуемся тестом Шапиро."
   ]
  },
  {
   "cell_type": "code",
   "execution_count": 22,
   "id": "5761c721",
   "metadata": {},
   "outputs": [],
   "source": [
    "weekday = camp_tcr.query('weekday != \"Saturday\" and weekday != \"Sunday\"')"
   ]
  },
  {
   "cell_type": "code",
   "execution_count": 23,
   "id": "f46faf97",
   "metadata": {},
   "outputs": [],
   "source": [
    "weekends = camp_tcr.query('weekday == \"Saturday\" or weekday == \"Sunday\"')"
   ]
  },
  {
   "cell_type": "code",
   "execution_count": 24,
   "id": "715ede23",
   "metadata": {},
   "outputs": [
    {
     "data": {
      "image/png": "[encoded data removed]",
      "text/plain": [
       "<Figure size 432x288 with 1 Axes>"
      ]
     },
     "metadata": {
      "needs_background": "light"
     },
     "output_type": "display_data"
    }
   ],
   "source": [
    "fig, ax = plt.subplots()\n",
    "st.probplot(weekday['TCR'], plot=ax)\n",
    "ax.set_title('Q-Q plot для weekday')\n",
    "plt.show()"
   ]
  },
  {
   "cell_type": "code",
   "execution_count": 25,
   "id": "fde85304",
   "metadata": {},
   "outputs": [
    {
     "name": "stdout",
     "output_type": "stream",
     "text": [
      "Статистика теста: 0.8359201550483704 p-value: 0.0\n",
      "Выборка не имеет нормальное распределение\n"
     ]
    },
    {
     "name": "stderr",
     "output_type": "stream",
     "text": [
      "C:\\ProgramData\\Anaconda3\\lib\\site-packages\\scipy\\stats\\morestats.py:1760: UserWarning: p-value may not be accurate for N > 5000.\n",
      "  warnings.warn(\"p-value may not be accurate for N > 5000.\")\n"
     ]
    }
   ],
   "source": [
    "stat, p = st.shapiro(weekday['TCR'])\n",
    "print('Статистика теста:', stat, 'p-value:', p)\n",
    "\n",
    "if p > 0.05:\n",
    "    print('Выборка имеет нормальное распределение')\n",
    "else:\n",
    "    print('Выборка не имеет нормальное распределение')"
   ]
  },
  {
   "cell_type": "code",
   "execution_count": 26,
   "id": "7f03fac2",
   "metadata": {},
   "outputs": [
    {
     "data": {
      "image/png": "[encoded data removed]",
      "text/plain": [
       "<Figure size 432x288 with 1 Axes>"
      ]
     },
     "metadata": {
      "needs_background": "light"
     },
     "output_type": "display_data"
    }
   ],
   "source": [
    "fig, ax = plt.subplots()\n",
    "st.probplot(weekends['TCR'], plot=ax)\n",
    "ax.set_title('Q-Q plot для weekends')\n",
    "plt.show()"
   ]
  },
  {
   "cell_type": "code",
   "execution_count": 27,
   "id": "987ad3d9",
   "metadata": {},
   "outputs": [
    {
     "name": "stdout",
     "output_type": "stream",
     "text": [
      "Статистика теста: 0.8567774295806885 p-value: 0.0\n",
      "Выборка не имеет нормальное распределение\n"
     ]
    },
    {
     "name": "stderr",
     "output_type": "stream",
     "text": [
      "C:\\ProgramData\\Anaconda3\\lib\\site-packages\\scipy\\stats\\morestats.py:1760: UserWarning: p-value may not be accurate for N > 5000.\n",
      "  warnings.warn(\"p-value may not be accurate for N > 5000.\")\n"
     ]
    }
   ],
   "source": [
    "stat, p = st.shapiro(weekends['TCR'])\n",
    "print('Статистика теста:', stat, 'p-value:', p)\n",
    "\n",
    "if p > 0.05:\n",
    "    print('Выборка имеет нормальное распределение')\n",
    "else:\n",
    "    print('Выборка не имеет нормальное распределение')"
   ]
  },
  {
   "cell_type": "markdown",
   "id": "4a02d418",
   "metadata": {},
   "source": [
    "Так как выборки не имеют нормального распределения, то для сравнения двух выборок стоит применить тест Манна-Уитни."
   ]
  },
  {
   "cell_type": "code",
   "execution_count": 28,
   "id": "f54ca1fb",
   "metadata": {},
   "outputs": [
    {
     "name": "stdout",
     "output_type": "stream",
     "text": [
      "Различия между выборками статистически значимы\n"
     ]
    }
   ],
   "source": [
    "stat, p = st.mannwhitneyu(weekends['TCR'], weekday['TCR'])\n",
    "\n",
    "# Оцениваем статистическую значимость различий между выборками\n",
    "if p > 0.05:\n",
    "    print('Различия между выборками не являются статистически значимыми')\n",
    "else:\n",
    "    print('Различия между выборками статистически значимы')"
   ]
  },
  {
   "cell_type": "markdown",
   "id": "c2d2ab9c",
   "metadata": {},
   "source": [
    "Отсюда, можно с уверенностью в 95% сказать, что CR (коэффициент конверсии в транзакцию) в выходные дни отличается от CR в будние дни."
   ]
  },
  {
   "cell_type": "code",
   "execution_count": 29,
   "id": "1aaf01d3",
   "metadata": {},
   "outputs": [
    {
     "data": {
      "text/plain": [
       "6.34"
      ]
     },
     "execution_count": 29,
     "metadata": {},
     "output_type": "execute_result"
    }
   ],
   "source": [
    "round((weekends[\"TCR\"].mean() / weekday[\"TCR\"].mean() - 1) * 100, 2)"
   ]
  },
  {
   "cell_type": "markdown",
   "id": "1cae09ba",
   "metadata": {},
   "source": [
    "Это подтверждается также разностью в средних значениях. Они различны на 6.34 процента."
   ]
  },
  {
   "cell_type": "markdown",
   "id": "3da494fb",
   "metadata": {},
   "source": [
    "При уровне значимости в 0.05 есть риск получить ложноположительный результат при множественной проверке гипотез. Поэтому следует понизить уровень значимости. Далее изменим уровень значимости до 0.01."
   ]
  },
  {
   "cell_type": "code",
   "execution_count": 30,
   "id": "037e9707",
   "metadata": {},
   "outputs": [
    {
     "name": "stdout",
     "output_type": "stream",
     "text": [
      "Различия между выборками статистически значимы\n"
     ]
    }
   ],
   "source": [
    "stat, p = st.mannwhitneyu(weekends['TCR'], weekday['TCR'])\n",
    "\n",
    "# Оцениваем статистическую значимость различий между выборками\n",
    "if p > 0.01:\n",
    "    print('Различия между выборками не являются статистически значимыми')\n",
    "else:\n",
    "    print('Различия между выборками статистически значимы')"
   ]
  },
  {
   "cell_type": "markdown",
   "id": "7b7a52fd",
   "metadata": {},
   "source": [
    "#### Вывод"
   ]
  },
  {
   "cell_type": "markdown",
   "id": "72a7754b",
   "metadata": {},
   "source": [
    "Можно с уверенностью в 95% сказать, что CR (коэффициент конверсии в транзакцию) в выходные дни отличается от CR в будние дни. Это также подтверждается и при уровне значимости 0.01. Средние значения также различны между собой. В выходные дни коэффициент конверсии в транзакцию больше на 6.34 процента, чем в будние дни."
   ]
  },
  {
   "cell_type": "markdown",
   "id": "2f9634f6",
   "metadata": {},
   "source": [
    "## Прогнозирование объема дохода."
   ]
  },
  {
   "cell_type": "markdown",
   "id": "d6c7fd59",
   "metadata": {},
   "source": [
    "<a id='6-bullet'></a>\n",
    "### Прогнозирование объема дохода, полученного с пользователей, приведенных на сайт контекстной рекламой на полгода вперед"
   ]
  },
  {
   "cell_type": "markdown",
   "id": "e58bc88c",
   "metadata": {},
   "source": [
    " Для получения прогноза на 6 месяцев вперед на основе временного ряда можно использовать модель SARIMA."
   ]
  },
  {
   "cell_type": "code",
   "execution_count": 31,
   "id": "fed512fa",
   "metadata": {},
   "outputs": [],
   "source": [
    "cpc_df = camp[camp['medium'] == 'cpc'].groupby('date').sum() #фильтрация датафрейма по значению 'cpc' в столбце 'medium"
   ]
  },
  {
   "cell_type": "code",
   "execution_count": 32,
   "id": "bf37f525",
   "metadata": {},
   "outputs": [],
   "source": [
    "cpc_revenue = cpc_df[ 'revenue'] #cоздание нового датафрейма только с датой и доходом"
   ]
  },
  {
   "cell_type": "code",
   "execution_count": 33,
   "id": "ac6c28ed",
   "metadata": {},
   "outputs": [],
   "source": [
    "train = cpc_revenue[:-1]  # Все данные, кроме последней точки\n",
    "test = cpc_revenue[-1:]   # Только последняя точка"
   ]
  },
  {
   "cell_type": "code",
   "execution_count": 34,
   "id": "82ec3827",
   "metadata": {},
   "outputs": [
    {
     "name": "stderr",
     "output_type": "stream",
     "text": [
      "C:\\ProgramData\\Anaconda3\\lib\\site-packages\\statsmodels\\tsa\\base\\tsa_model.py:471: ValueWarning: No frequency information was provided, so inferred frequency D will be used.\n",
      "  self._init_dates(dates, freq)\n",
      "C:\\ProgramData\\Anaconda3\\lib\\site-packages\\statsmodels\\tsa\\holtwinters\\model.py:915: ConvergenceWarning: Optimization failed to converge. Check mle_retvals.\n",
      "  warnings.warn(\n"
     ]
    }
   ],
   "source": [
    "model = ExponentialSmoothing(train, seasonal_periods=12, trend='add', seasonal='add').fit()\n",
    "forecast = model.forecast(steps=182)"
   ]
  },
  {
   "cell_type": "code",
   "execution_count": 35,
   "id": "ac30356b",
   "metadata": {},
   "outputs": [
    {
     "data": {
      "image/png": "[encoded data removed]",
      "text/plain": [
       "<Figure size 864x432 with 1 Axes>"
      ]
     },
     "metadata": {
      "needs_background": "light"
     },
     "output_type": "display_data"
    }
   ],
   "source": [
    "plt.figure(figsize=(12, 6))\n",
    "plt.plot(train.index, train, label='Train')\n",
    "plt.plot(test.index, test, label='Test')\n",
    "plt.plot(pd.date_range(start='2020-10-01', periods=182, freq='D'), forecast, label='Forecast')\n",
    "plt.legend()\n",
    "plt.show()\n"
   ]
  },
  {
   "cell_type": "markdown",
   "id": "907be172",
   "metadata": {},
   "source": [
    "Таким образом, можно спрогнозировать падение дохода через полгода."
   ]
  },
  {
   "cell_type": "markdown",
   "id": "dad61c78",
   "metadata": {},
   "source": [
    "## Вывод."
   ]
  },
  {
   "cell_type": "markdown",
   "id": "2877ed2f",
   "metadata": {},
   "source": [
    "В ходе проведенного исследования были достигнуты следующие результаты:\n",
    "\n",
    "Наибольший доход был получен от рекламного источника Yandex, что позволяет сделать вывод о его эффективности и рекомендовать его использование для привлечения новых пользователей.\n",
    "\n",
    "После введения коронавирусных ограничений средний чек транзакции снизился на 7.41%. Это свидетельствует о том, что ограничения оказали негативное влияние на потребительскую активность. Снижение среднего чека было отмечено как среди пользователей, использовавших промокоды (-5.19%), так и среди тех, кто покупал без них (-9.74%).\n",
    "\n",
    "Была проверена гипотеза о различии коэффициента конверсии в транзакцию (CR) между выходными и будними днями. С 95% уверенностью можно утверждать, что CR в выходные дни отличается от будних дней. Более того, это подтверждается и при уровне значимости 0.01. В выходные дни коэффициент конверсии в транзакцию выше на 6.34 процента, чем в будние дни.\n",
    "\n",
    "Прогнозирование дохода на полгода вперед показало, что следует ожидать снижения дохода от пользователей, привлеченных контекстной рекламой.\n",
    "\n",
    "В свете полученных результатов, рекомендуется уделить внимание повышению эффективности рекламных кампаний, оптимизации маркетинговых затрат и адаптации бизнес-модели к изменяющимся условиям после введения коронавирусных ограничений. Особое внимание стоит уделить анализу поведения пользователей в выходные дни, когда коэффициент конверсии в транзакцию выше, для выявления возможных резервов роста."
   ]
  }
 ],
 "metadata": {
  "kernelspec": {
   "display_name": "Python 3 (ipykernel)",
   "language": "python",
   "name": "python3"
  },
  "language_info": {
   "codemirror_mode": {
    "name": "ipython",
    "version": 3
   },
   "file_extension": ".py",
   "mimetype": "text/x-python",
   "name": "python",
   "nbconvert_exporter": "python",
   "pygments_lexer": "ipython3",
   "version": "3.9.12"
  }
 },
 "nbformat": 4,
 "nbformat_minor": 5
}
